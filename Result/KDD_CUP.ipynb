{
 "cells": [
  {
   "cell_type": "markdown",
   "id": "b533733d",
   "metadata": {},
   "source": [
    "**加载数据**"
   ]
  },
  {
   "cell_type": "code",
   "execution_count": 77,
   "id": "01bcbe06",
   "metadata": {},
   "outputs": [
    {
     "data": {
      "text/html": [
       "<div>\n",
       "<style scoped>\n",
       "    .dataframe tbody tr th:only-of-type {\n",
       "        vertical-align: middle;\n",
       "    }\n",
       "\n",
       "    .dataframe tbody tr th {\n",
       "        vertical-align: top;\n",
       "    }\n",
       "\n",
       "    .dataframe thead th {\n",
       "        text-align: right;\n",
       "    }\n",
       "</style>\n",
       "<table border=\"1\" class=\"dataframe\">\n",
       "  <thead>\n",
       "    <tr style=\"text-align: right;\">\n",
       "      <th></th>\n",
       "      <th>0</th>\n",
       "      <th>1</th>\n",
       "      <th>2</th>\n",
       "      <th>3</th>\n",
       "      <th>4</th>\n",
       "      <th>5</th>\n",
       "      <th>6</th>\n",
       "      <th>7</th>\n",
       "      <th>8</th>\n",
       "      <th>9</th>\n",
       "      <th>...</th>\n",
       "      <th>32</th>\n",
       "      <th>33</th>\n",
       "      <th>34</th>\n",
       "      <th>35</th>\n",
       "      <th>36</th>\n",
       "      <th>37</th>\n",
       "      <th>38</th>\n",
       "      <th>39</th>\n",
       "      <th>40</th>\n",
       "      <th>41</th>\n",
       "    </tr>\n",
       "  </thead>\n",
       "  <tbody>\n",
       "    <tr>\n",
       "      <th>0</th>\n",
       "      <td>0</td>\n",
       "      <td>tcp</td>\n",
       "      <td>http</td>\n",
       "      <td>SF</td>\n",
       "      <td>181</td>\n",
       "      <td>5450</td>\n",
       "      <td>0</td>\n",
       "      <td>0</td>\n",
       "      <td>[8]</td>\n",
       "      <td>0</td>\n",
       "      <td>...</td>\n",
       "      <td>9</td>\n",
       "      <td>1.0</td>\n",
       "      <td>0.0</td>\n",
       "      <td>0.11</td>\n",
       "      <td>0.00</td>\n",
       "      <td>0.00</td>\n",
       "      <td>0.00</td>\n",
       "      <td>0.0</td>\n",
       "      <td>0.0</td>\n",
       "      <td>normal.</td>\n",
       "    </tr>\n",
       "    <tr>\n",
       "      <th>1</th>\n",
       "      <td>0</td>\n",
       "      <td>tcp</td>\n",
       "      <td>http</td>\n",
       "      <td>SF</td>\n",
       "      <td>239</td>\n",
       "      <td>486</td>\n",
       "      <td>0</td>\n",
       "      <td>0</td>\n",
       "      <td>[8]</td>\n",
       "      <td>0</td>\n",
       "      <td>...</td>\n",
       "      <td>19</td>\n",
       "      <td>1.0</td>\n",
       "      <td>0.0</td>\n",
       "      <td>0.05</td>\n",
       "      <td>0.00</td>\n",
       "      <td>0.00</td>\n",
       "      <td>0.00</td>\n",
       "      <td>0.0</td>\n",
       "      <td>0.0</td>\n",
       "      <td>normal.</td>\n",
       "    </tr>\n",
       "    <tr>\n",
       "      <th>2</th>\n",
       "      <td>0</td>\n",
       "      <td>tcp</td>\n",
       "      <td>http</td>\n",
       "      <td>SF</td>\n",
       "      <td>235</td>\n",
       "      <td>1337</td>\n",
       "      <td>0</td>\n",
       "      <td>0</td>\n",
       "      <td>[8]</td>\n",
       "      <td>0</td>\n",
       "      <td>...</td>\n",
       "      <td>29</td>\n",
       "      <td>1.0</td>\n",
       "      <td>0.0</td>\n",
       "      <td>0.03</td>\n",
       "      <td>0.00</td>\n",
       "      <td>0.00</td>\n",
       "      <td>0.00</td>\n",
       "      <td>0.0</td>\n",
       "      <td>0.0</td>\n",
       "      <td>normal.</td>\n",
       "    </tr>\n",
       "    <tr>\n",
       "      <th>3</th>\n",
       "      <td>0</td>\n",
       "      <td>tcp</td>\n",
       "      <td>http</td>\n",
       "      <td>SF</td>\n",
       "      <td>219</td>\n",
       "      <td>1337</td>\n",
       "      <td>0</td>\n",
       "      <td>0</td>\n",
       "      <td>[8]</td>\n",
       "      <td>0</td>\n",
       "      <td>...</td>\n",
       "      <td>39</td>\n",
       "      <td>1.0</td>\n",
       "      <td>0.0</td>\n",
       "      <td>0.03</td>\n",
       "      <td>0.00</td>\n",
       "      <td>0.00</td>\n",
       "      <td>0.00</td>\n",
       "      <td>0.0</td>\n",
       "      <td>0.0</td>\n",
       "      <td>normal.</td>\n",
       "    </tr>\n",
       "    <tr>\n",
       "      <th>4</th>\n",
       "      <td>0</td>\n",
       "      <td>tcp</td>\n",
       "      <td>http</td>\n",
       "      <td>SF</td>\n",
       "      <td>217</td>\n",
       "      <td>2032</td>\n",
       "      <td>0</td>\n",
       "      <td>0</td>\n",
       "      <td>[8]</td>\n",
       "      <td>0</td>\n",
       "      <td>...</td>\n",
       "      <td>49</td>\n",
       "      <td>1.0</td>\n",
       "      <td>0.0</td>\n",
       "      <td>0.02</td>\n",
       "      <td>0.00</td>\n",
       "      <td>0.00</td>\n",
       "      <td>0.00</td>\n",
       "      <td>0.0</td>\n",
       "      <td>0.0</td>\n",
       "      <td>normal.</td>\n",
       "    </tr>\n",
       "    <tr>\n",
       "      <th>...</th>\n",
       "      <td>...</td>\n",
       "      <td>...</td>\n",
       "      <td>...</td>\n",
       "      <td>...</td>\n",
       "      <td>...</td>\n",
       "      <td>...</td>\n",
       "      <td>...</td>\n",
       "      <td>...</td>\n",
       "      <td>...</td>\n",
       "      <td>...</td>\n",
       "      <td>...</td>\n",
       "      <td>...</td>\n",
       "      <td>...</td>\n",
       "      <td>...</td>\n",
       "      <td>...</td>\n",
       "      <td>...</td>\n",
       "      <td>...</td>\n",
       "      <td>...</td>\n",
       "      <td>...</td>\n",
       "      <td>...</td>\n",
       "      <td>...</td>\n",
       "    </tr>\n",
       "    <tr>\n",
       "      <th>494016</th>\n",
       "      <td>0</td>\n",
       "      <td>tcp</td>\n",
       "      <td>http</td>\n",
       "      <td>SF</td>\n",
       "      <td>310</td>\n",
       "      <td>1881</td>\n",
       "      <td>0</td>\n",
       "      <td>0</td>\n",
       "      <td>[8]</td>\n",
       "      <td>0</td>\n",
       "      <td>...</td>\n",
       "      <td>255</td>\n",
       "      <td>1.0</td>\n",
       "      <td>0.0</td>\n",
       "      <td>0.01</td>\n",
       "      <td>0.05</td>\n",
       "      <td>0.00</td>\n",
       "      <td>0.01</td>\n",
       "      <td>0.0</td>\n",
       "      <td>0.0</td>\n",
       "      <td>normal.</td>\n",
       "    </tr>\n",
       "    <tr>\n",
       "      <th>494017</th>\n",
       "      <td>0</td>\n",
       "      <td>tcp</td>\n",
       "      <td>http</td>\n",
       "      <td>SF</td>\n",
       "      <td>282</td>\n",
       "      <td>2286</td>\n",
       "      <td>0</td>\n",
       "      <td>0</td>\n",
       "      <td>[8]</td>\n",
       "      <td>0</td>\n",
       "      <td>...</td>\n",
       "      <td>255</td>\n",
       "      <td>1.0</td>\n",
       "      <td>0.0</td>\n",
       "      <td>0.17</td>\n",
       "      <td>0.05</td>\n",
       "      <td>0.00</td>\n",
       "      <td>0.01</td>\n",
       "      <td>0.0</td>\n",
       "      <td>0.0</td>\n",
       "      <td>normal.</td>\n",
       "    </tr>\n",
       "    <tr>\n",
       "      <th>494018</th>\n",
       "      <td>0</td>\n",
       "      <td>tcp</td>\n",
       "      <td>http</td>\n",
       "      <td>SF</td>\n",
       "      <td>203</td>\n",
       "      <td>1200</td>\n",
       "      <td>0</td>\n",
       "      <td>0</td>\n",
       "      <td>[8]</td>\n",
       "      <td>0</td>\n",
       "      <td>...</td>\n",
       "      <td>255</td>\n",
       "      <td>1.0</td>\n",
       "      <td>0.0</td>\n",
       "      <td>0.06</td>\n",
       "      <td>0.05</td>\n",
       "      <td>0.06</td>\n",
       "      <td>0.01</td>\n",
       "      <td>0.0</td>\n",
       "      <td>0.0</td>\n",
       "      <td>normal.</td>\n",
       "    </tr>\n",
       "    <tr>\n",
       "      <th>494019</th>\n",
       "      <td>0</td>\n",
       "      <td>tcp</td>\n",
       "      <td>http</td>\n",
       "      <td>SF</td>\n",
       "      <td>291</td>\n",
       "      <td>1200</td>\n",
       "      <td>0</td>\n",
       "      <td>0</td>\n",
       "      <td>[8]</td>\n",
       "      <td>0</td>\n",
       "      <td>...</td>\n",
       "      <td>255</td>\n",
       "      <td>1.0</td>\n",
       "      <td>0.0</td>\n",
       "      <td>0.04</td>\n",
       "      <td>0.05</td>\n",
       "      <td>0.04</td>\n",
       "      <td>0.01</td>\n",
       "      <td>0.0</td>\n",
       "      <td>0.0</td>\n",
       "      <td>normal.</td>\n",
       "    </tr>\n",
       "    <tr>\n",
       "      <th>494020</th>\n",
       "      <td>0</td>\n",
       "      <td>tcp</td>\n",
       "      <td>http</td>\n",
       "      <td>SF</td>\n",
       "      <td>219</td>\n",
       "      <td>1234</td>\n",
       "      <td>0</td>\n",
       "      <td>0</td>\n",
       "      <td>[8]</td>\n",
       "      <td>0</td>\n",
       "      <td>...</td>\n",
       "      <td>255</td>\n",
       "      <td>1.0</td>\n",
       "      <td>0.0</td>\n",
       "      <td>0.17</td>\n",
       "      <td>0.05</td>\n",
       "      <td>0.00</td>\n",
       "      <td>0.01</td>\n",
       "      <td>0.0</td>\n",
       "      <td>0.0</td>\n",
       "      <td>normal.</td>\n",
       "    </tr>\n",
       "  </tbody>\n",
       "</table>\n",
       "<p>494021 rows × 42 columns</p>\n",
       "</div>"
      ],
      "text/plain": [
       "        0    1     2   3    4     5   6   7    8   9   ...   32   33   34  \\\n",
       "0        0  tcp  http  SF  181  5450   0   0  [8]   0  ...    9  1.0  0.0   \n",
       "1        0  tcp  http  SF  239   486   0   0  [8]   0  ...   19  1.0  0.0   \n",
       "2        0  tcp  http  SF  235  1337   0   0  [8]   0  ...   29  1.0  0.0   \n",
       "3        0  tcp  http  SF  219  1337   0   0  [8]   0  ...   39  1.0  0.0   \n",
       "4        0  tcp  http  SF  217  2032   0   0  [8]   0  ...   49  1.0  0.0   \n",
       "...     ..  ...   ...  ..  ...   ...  ..  ..  ...  ..  ...  ...  ...  ...   \n",
       "494016   0  tcp  http  SF  310  1881   0   0  [8]   0  ...  255  1.0  0.0   \n",
       "494017   0  tcp  http  SF  282  2286   0   0  [8]   0  ...  255  1.0  0.0   \n",
       "494018   0  tcp  http  SF  203  1200   0   0  [8]   0  ...  255  1.0  0.0   \n",
       "494019   0  tcp  http  SF  291  1200   0   0  [8]   0  ...  255  1.0  0.0   \n",
       "494020   0  tcp  http  SF  219  1234   0   0  [8]   0  ...  255  1.0  0.0   \n",
       "\n",
       "          35    36    37    38   39   40       41  \n",
       "0       0.11  0.00  0.00  0.00  0.0  0.0  normal.  \n",
       "1       0.05  0.00  0.00  0.00  0.0  0.0  normal.  \n",
       "2       0.03  0.00  0.00  0.00  0.0  0.0  normal.  \n",
       "3       0.03  0.00  0.00  0.00  0.0  0.0  normal.  \n",
       "4       0.02  0.00  0.00  0.00  0.0  0.0  normal.  \n",
       "...      ...   ...   ...   ...  ...  ...      ...  \n",
       "494016  0.01  0.05  0.00  0.01  0.0  0.0  normal.  \n",
       "494017  0.17  0.05  0.00  0.01  0.0  0.0  normal.  \n",
       "494018  0.06  0.05  0.06  0.01  0.0  0.0  normal.  \n",
       "494019  0.04  0.05  0.04  0.01  0.0  0.0  normal.  \n",
       "494020  0.17  0.05  0.00  0.01  0.0  0.0  normal.  \n",
       "\n",
       "[494021 rows x 42 columns]"
      ]
     },
     "execution_count": 77,
     "metadata": {},
     "output_type": "execute_result"
    }
   ],
   "source": [
    "import pandas as pd\n",
    "from sklearn.preprocessing import MinMaxScaler\n",
    "import numpy as np\n",
    "\n",
    "# 加载数据\n",
    "df = pd.read_csv('D:\\KDD_CUP_99\\kdd_cup\\AllData.csv',header=None)\n",
    "df"
   ]
  },
  {
   "cell_type": "markdown",
   "id": "86b55452",
   "metadata": {},
   "source": [
    "## 一、对数据集中正常连接和非正常连接数量进行统计"
   ]
  },
  {
   "cell_type": "code",
   "execution_count": 70,
   "id": "e19440e7",
   "metadata": {},
   "outputs": [
    {
     "name": "stdout",
     "output_type": "stream",
     "text": [
      "正常连接数目： 97278\n",
      "非正常连接数目： 396743\n"
     ]
    }
   ],
   "source": [
    "abnormal_num_list = []\n",
    "\n",
    "normal_count = 0\n",
    "abnormal_count = 0\n",
    "\n",
    "for i in range(0,len(df)):\n",
    "    if df[41][i] == 'normal.':\n",
    "        normal_count += 1\n",
    "    else:\n",
    "        abnormal_count += 1\n",
    "        abnormal_num_list.append(i)\n",
    "        \n",
    "print('正常连接数目：',normal_count)\n",
    "print('非正常连接数目：',abnormal_count)"
   ]
  },
  {
   "cell_type": "code",
   "execution_count": 71,
   "id": "52833ac5",
   "metadata": {},
   "outputs": [
    {
     "data": {
      "image/png": "[encoded data removed]",
      "text/plain": [
       "<Figure size 216x288 with 1 Axes>"
      ]
     },
     "metadata": {
      "needs_background": "light"
     },
     "output_type": "display_data"
    }
   ],
   "source": [
    "%matplotlib inline\n",
    "import matplotlib.pyplot as plt\n",
    "\n",
    "# 绘制数目图，正常连接 vs 非正常连接\n",
    "x = [0,1] \n",
    "y = [normal_count,abnormal_count] \n",
    "plt.figure(figsize=(3,4))\n",
    "plt.bar(x,y,color = '#9999ff') \n",
    "plt.title('Different Anomalies') \n",
    "plt.xlabel('Normal                   Abnormal') \n",
    "plt.ylabel('Count') \n",
    "plt.show() "
   ]
  },
  {
   "cell_type": "markdown",
   "id": "a68b87d3",
   "metadata": {},
   "source": [
    "## 二、查看非正常连接的分布"
   ]
  },
  {
   "cell_type": "code",
   "execution_count": 3,
   "id": "b83e5921",
   "metadata": {},
   "outputs": [],
   "source": [
    "buffer_overflow = []\n",
    "loadmodule = []\n",
    "perl = []\n",
    "neptune = []\n",
    "smurf = []\n",
    "guess_passwd = []\n",
    "pod = []\n",
    "teardrop = []\n",
    "portsweep = []\n",
    "satan = []\n",
    "phf = []\n",
    "back = []\n",
    "warezclient = []\n",
    "ipsweep = []\n",
    "nmap = []\n",
    "rootkit = []\n",
    "land = []\n",
    "ftp_write = []\n",
    "spy = []\n",
    "imap = []\n",
    "warezmaster = []\n",
    "multihop = []\n",
    "land = []\n",
    "\n",
    "for i in abnormal_num_list:\n",
    "    if df[41][i] == 'buffer_overflow.':\n",
    "        buffer_overflow.append(df.loc[i])\n",
    "    elif df[41][i] == 'loadmodule.':\n",
    "        loadmodule.append(df.loc[i])\n",
    "    elif df[41][i] == 'perl.':\n",
    "        perl.append(df.loc[i])\n",
    "    elif df[41][i] == 'neptune.':\n",
    "        neptune.append(df.loc[i])\n",
    "    elif df[41][i] == 'smurf.':\n",
    "        smurf.append(df.loc[i])\n",
    "    elif df[41][i] == 'guess_passwd.':\n",
    "        guess_passwd.append(df.loc[i])\n",
    "    elif df[41][i] == 'pod.':\n",
    "        pod.append(df.loc[i])\n",
    "    elif df[41][i] == 'teardrop.':\n",
    "        teardrop.append(df.loc[i])\n",
    "    elif df[41][i] == 'portsweep.':\n",
    "        portsweep.append(df.loc[i])\n",
    "    elif df[41][i] == 'satan.':\n",
    "        satan.append(df.loc[i])\n",
    "    elif df[41][i] == 'back.':\n",
    "        back.append(df.loc[i])\n",
    "    elif df[41][i] == 'ipsweep.':\n",
    "        ipsweep.append(df.loc[i])\n",
    "    elif df[41][i] == 'phf.':\n",
    "        phf.append(df.loc[i])\n",
    "    elif df[41][i] == 'nmap.':\n",
    "        nmap.append(df.loc[i])\n",
    "    elif df[41][i] == 'warezclient.':\n",
    "        warezclient.append(df.loc[i])\n",
    "    elif df[41][i] == 'rootkit.':\n",
    "        rootkit.append(df.loc[i])\n",
    "    elif df[41][i] == 'land.':\n",
    "        land.append(df.loc[i])\n",
    "    elif df[41][i] == 'ftp_write.':\n",
    "        ftp_write.append(df.loc[i])\n",
    "    elif df[41][i] == 'imap.':\n",
    "        imap.append(df.loc[i])\n",
    "    elif df[41][i] == 'multihop.':\n",
    "        multihop.append(df.loc[i])\n",
    "    elif df[41][i] == 'warezmaster.':\n",
    "        warezmaster.append(df.loc[i])\n",
    "    elif df[41][i] == 'spy.':\n",
    "        spy.append(df.loc[i])\n",
    "    else :\n",
    "        print(df[41][i])"
   ]
  },
  {
   "cell_type": "code",
   "execution_count": 4,
   "id": "3bc704c0",
   "metadata": {},
   "outputs": [],
   "source": [
    "anomalies_count = []\n",
    "anomalies_count.append(len(back))\n",
    "anomalies_count.append(len(satan))\n",
    "# anomalies_count.append(len(neptune))\n",
    "# anomalies_count.append(len(smurf))\n",
    "anomalies_count.append(len(teardrop))\n",
    "anomalies_count.append(len(portsweep))\n",
    "anomalies_count.append(len(warezclient))\n",
    "anomalies_count.append(len(ipsweep))\n",
    "anomalies_count.append(len(pod))\n",
    "anomalies_count.append(len(nmap))\n",
    "anomalies_count.append(len(multihop))\n",
    "anomalies_count.append(len(land))\n",
    "anomalies_count.append(len(phf))\n",
    "anomalies_count.append(len(ftp_write))\n",
    "anomalies_count.append(len(perl))\n",
    "anomalies_count.append(len(guess_passwd))\n",
    "anomalies_count.append(len(warezmaster))\n",
    "anomalies_count.append(len(rootkit))\n",
    "anomalies_count.append(len(land))\n",
    "anomalies_count.append(len(buffer_overflow))\n",
    "anomalies_count.append(len(loadmodule))\n",
    "anomalies_count.append(len(spy))\n",
    "anomalies_count.append(len(imap))"
   ]
  },
  {
   "cell_type": "code",
   "execution_count": 5,
   "id": "7d5587f4",
   "metadata": {},
   "outputs": [
    {
     "data": {
      "image/png": "[encoded data removed]",
      "text/plain": [
       "<Figure size 288x216 with 1 Axes>"
      ]
     },
     "metadata": {
      "needs_background": "light"
     },
     "output_type": "display_data"
    }
   ],
   "source": [
    "top3 = []\n",
    "top3.append(len(smurf))\n",
    "top3.append(len(neptune))\n",
    "top3.append(abnormal_count - len(smurf) - len(neptune))\n",
    "\n",
    "x = ['smurf','neptune','other']\n",
    "y = top3\n",
    "plt.figure(figsize=(4,3))\n",
    "plt.bar(x,y,color = '#9999ff') \n",
    "plt.title('TOP3 Statistics of different anomalies') \n",
    "plt.xlabel('Exception Name') \n",
    "plt.ylabel('Count') \n",
    "plt.show() "
   ]
  },
  {
   "cell_type": "code",
   "execution_count": 16,
   "id": "0a6aacdb",
   "metadata": {},
   "outputs": [
    {
     "data": {
      "image/png": "[encoded data removed]",
      "text/plain": [
       "<Figure size 1440x360 with 1 Axes>"
      ]
     },
     "metadata": {
      "needs_background": "light"
     },
     "output_type": "display_data"
    }
   ],
   "source": [
    "x = ['back','satan','teardrop','portsweep','warezclient','ipsweep','pod','nmap','multihop','land','phf','ftp_write','perl','guess_passwd','warezmaster','rootkit','land','buffer_overflow','loadmodule','spy','imap']\n",
    "y = anomalies_count \n",
    "plt.figure(figsize=(20,5))\n",
    "plt.bar(x,y,color = '#9999ff',width = 0.85) \n",
    "plt.title('Statistics of different anomalies') \n",
    "plt.xlabel('Exception Name') \n",
    "plt.ylabel('Count') \n",
    "plt.show() "
   ]
  },
  {
   "cell_type": "markdown",
   "id": "9373ca6f",
   "metadata": {},
   "source": [
    "## 不同协议与连接持续时间，发送字节数，接受字节数关系"
   ]
  },
  {
   "cell_type": "code",
   "execution_count": 78,
   "id": "0fba4e5f",
   "metadata": {},
   "outputs": [
    {
     "data": {
      "text/html": [
       "<div>\n",
       "<style scoped>\n",
       "    .dataframe tbody tr th:only-of-type {\n",
       "        vertical-align: middle;\n",
       "    }\n",
       "\n",
       "    .dataframe tbody tr th {\n",
       "        vertical-align: top;\n",
       "    }\n",
       "\n",
       "    .dataframe thead th {\n",
       "        text-align: right;\n",
       "    }\n",
       "</style>\n",
       "<table border=\"1\" class=\"dataframe\">\n",
       "  <thead>\n",
       "    <tr style=\"text-align: right;\">\n",
       "      <th></th>\n",
       "      <th>0</th>\n",
       "      <th>4</th>\n",
       "      <th>5</th>\n",
       "    </tr>\n",
       "    <tr>\n",
       "      <th>1</th>\n",
       "      <th></th>\n",
       "      <th></th>\n",
       "      <th></th>\n",
       "    </tr>\n",
       "  </thead>\n",
       "  <tbody>\n",
       "    <tr>\n",
       "      <th>icmp</th>\n",
       "      <td>0.000000</td>\n",
       "      <td>928.318351</td>\n",
       "      <td>0.000000</td>\n",
       "    </tr>\n",
       "    <tr>\n",
       "      <th>tcp</th>\n",
       "      <td>18.299576</td>\n",
       "      <td>6468.998132</td>\n",
       "      <td>2248.436461</td>\n",
       "    </tr>\n",
       "    <tr>\n",
       "      <th>udp</th>\n",
       "      <td>993.646163</td>\n",
       "      <td>93.935000</td>\n",
       "      <td>84.709689</td>\n",
       "    </tr>\n",
       "  </tbody>\n",
       "</table>\n",
       "</div>"
      ],
      "text/plain": [
       "               0            4            5\n",
       "1                                         \n",
       "icmp    0.000000   928.318351     0.000000\n",
       "tcp    18.299576  6468.998132  2248.436461\n",
       "udp   993.646163    93.935000    84.709689"
      ]
     },
     "execution_count": 78,
     "metadata": {},
     "output_type": "execute_result"
    }
   ],
   "source": [
    "df.pivot_table(index=1,values=[0,4,5],aggfunc='mean')"
   ]
  },
  {
   "cell_type": "code",
   "execution_count": 79,
   "id": "090e7403",
   "metadata": {},
   "outputs": [
    {
     "data": {
      "text/html": [
       "<div>\n",
       "<style scoped>\n",
       "    .dataframe tbody tr th:only-of-type {\n",
       "        vertical-align: middle;\n",
       "    }\n",
       "\n",
       "    .dataframe tbody tr th {\n",
       "        vertical-align: top;\n",
       "    }\n",
       "\n",
       "    .dataframe thead th {\n",
       "        text-align: right;\n",
       "    }\n",
       "</style>\n",
       "<table border=\"1\" class=\"dataframe\">\n",
       "  <thead>\n",
       "    <tr style=\"text-align: right;\">\n",
       "      <th></th>\n",
       "      <th>0</th>\n",
       "      <th>4</th>\n",
       "      <th>5</th>\n",
       "    </tr>\n",
       "    <tr>\n",
       "      <th>1</th>\n",
       "      <th></th>\n",
       "      <th></th>\n",
       "      <th></th>\n",
       "    </tr>\n",
       "  </thead>\n",
       "  <tbody>\n",
       "    <tr>\n",
       "      <th>icmp</th>\n",
       "      <td>0</td>\n",
       "      <td>8</td>\n",
       "      <td>0</td>\n",
       "    </tr>\n",
       "    <tr>\n",
       "      <th>tcp</th>\n",
       "      <td>0</td>\n",
       "      <td>0</td>\n",
       "      <td>0</td>\n",
       "    </tr>\n",
       "    <tr>\n",
       "      <th>udp</th>\n",
       "      <td>0</td>\n",
       "      <td>1</td>\n",
       "      <td>0</td>\n",
       "    </tr>\n",
       "  </tbody>\n",
       "</table>\n",
       "</div>"
      ],
      "text/plain": [
       "      0  4  5\n",
       "1            \n",
       "icmp  0  8  0\n",
       "tcp   0  0  0\n",
       "udp   0  1  0"
      ]
     },
     "execution_count": 79,
     "metadata": {},
     "output_type": "execute_result"
    }
   ],
   "source": [
    "df.pivot_table(index=1,values=[0,4,5],aggfunc='min')"
   ]
  },
  {
   "cell_type": "code",
   "execution_count": 80,
   "id": "d139f341",
   "metadata": {},
   "outputs": [
    {
     "data": {
      "text/html": [
       "<div>\n",
       "<style scoped>\n",
       "    .dataframe tbody tr th:only-of-type {\n",
       "        vertical-align: middle;\n",
       "    }\n",
       "\n",
       "    .dataframe tbody tr th {\n",
       "        vertical-align: top;\n",
       "    }\n",
       "\n",
       "    .dataframe thead th {\n",
       "        text-align: right;\n",
       "    }\n",
       "</style>\n",
       "<table border=\"1\" class=\"dataframe\">\n",
       "  <thead>\n",
       "    <tr style=\"text-align: right;\">\n",
       "      <th></th>\n",
       "      <th>0</th>\n",
       "      <th>4</th>\n",
       "      <th>5</th>\n",
       "    </tr>\n",
       "    <tr>\n",
       "      <th>1</th>\n",
       "      <th></th>\n",
       "      <th></th>\n",
       "      <th></th>\n",
       "    </tr>\n",
       "  </thead>\n",
       "  <tbody>\n",
       "    <tr>\n",
       "      <th>icmp</th>\n",
       "      <td>0</td>\n",
       "      <td>1480</td>\n",
       "      <td>0</td>\n",
       "    </tr>\n",
       "    <tr>\n",
       "      <th>tcp</th>\n",
       "      <td>42448</td>\n",
       "      <td>693375640</td>\n",
       "      <td>5155468</td>\n",
       "    </tr>\n",
       "    <tr>\n",
       "      <th>udp</th>\n",
       "      <td>58329</td>\n",
       "      <td>516</td>\n",
       "      <td>516</td>\n",
       "    </tr>\n",
       "  </tbody>\n",
       "</table>\n",
       "</div>"
      ],
      "text/plain": [
       "          0          4        5\n",
       "1                              \n",
       "icmp      0       1480        0\n",
       "tcp   42448  693375640  5155468\n",
       "udp   58329        516      516"
      ]
     },
     "execution_count": 80,
     "metadata": {},
     "output_type": "execute_result"
    }
   ],
   "source": [
    "df.pivot_table(index=1,values=[0,4,5],aggfunc='max')"
   ]
  },
  {
   "cell_type": "markdown",
   "id": "548b82d7",
   "metadata": {},
   "source": [
    "## 异常状况时用户登录情况"
   ]
  },
  {
   "cell_type": "code",
   "execution_count": 72,
   "id": "fd10f1ec",
   "metadata": {},
   "outputs": [
    {
     "name": "stdout",
     "output_type": "stream",
     "text": [
      "网络发生异常时，登录成功次数： 3298\n",
      "网络发生异常时，登录失败次数： 57\n"
     ]
    }
   ],
   "source": [
    "success_login = 0\n",
    "fail_login = 0\n",
    "\n",
    "df.pivot_table(index=1,values=[10,11,41],aggfunc='mean')\n",
    "for i in range(0,len(df)):\n",
    "    if df[41][i] != 'normal.':\n",
    "        if df[11][i] == 1:\n",
    "            success_login += 1\n",
    "        else:\n",
    "            fail_login += df[10][i]\n",
    "print('网络发生异常时，登录成功次数：',success_login)\n",
    "print('网络发生异常时，登录失败次数：',fail_login)"
   ]
  },
  {
   "cell_type": "code",
   "execution_count": 81,
   "id": "2d490d5d",
   "metadata": {},
   "outputs": [
    {
     "data": {
      "image/png": "[encoded data removed]",
      "text/plain": [
       "<Figure size 216x288 with 1 Axes>"
      ]
     },
     "metadata": {
      "needs_background": "light"
     },
     "output_type": "display_data"
    }
   ],
   "source": [
    "# 绘制数目图，登录成功 vs 登录失败\n",
    "x = [0,1] \n",
    "y = [success_login,fail_login] \n",
    "plt.figure(figsize=(3,4))\n",
    "plt.bar(x,y,color = '#9999ff') \n",
    "plt.title('Different login') \n",
    "plt.xlabel('success                   fail') \n",
    "plt.ylabel('Count') \n",
    "plt.show() "
   ]
  },
  {
   "cell_type": "markdown",
   "id": "c64db85a",
   "metadata": {},
   "source": [
    "## 异常状况时root用户访问占比"
   ]
  },
  {
   "cell_type": "code",
   "execution_count": 74,
   "id": "4bb3771a",
   "metadata": {},
   "outputs": [
    {
     "name": "stdout",
     "output_type": "stream",
     "text": [
      "异常状况时root用户访问次数为： 57\n"
     ]
    }
   ],
   "source": [
    "root_post = 0\n",
    "df.pivot_table(index=1,values=[15,41],aggfunc='mean')\n",
    "\n",
    "for i in range(0,len(df)):\n",
    "    if df[41][i] != 'normal.':\n",
    "        root_post += df[10][i]\n",
    "print('异常状况时root用户访问次数为：',fail_login)"
   ]
  },
  {
   "cell_type": "code",
   "execution_count": 75,
   "id": "7a388557",
   "metadata": {},
   "outputs": [
    {
     "data": {
      "image/png": "[encoded data removed]",
      "text/plain": [
       "<Figure size 216x288 with 1 Axes>"
      ]
     },
     "metadata": {
      "needs_background": "light"
     },
     "output_type": "display_data"
    }
   ],
   "source": [
    "x = [0,1] \n",
    "y = [success_login + fail_login ,root_post] \n",
    "plt.figure(figsize=(3,4))\n",
    "plt.bar(x,y,color = '#9999ff') \n",
    "plt.title('Different login') \n",
    "plt.xlabel('all                   root') \n",
    "plt.ylabel('Count') \n",
    "plt.show() "
   ]
  },
  {
   "cell_type": "markdown",
   "id": "d37f9094",
   "metadata": {},
   "source": [
    "## 十二、预测发送字节数是否大于200"
   ]
  },
  {
   "cell_type": "code",
   "execution_count": 76,
   "id": "260d0eab",
   "metadata": {},
   "outputs": [
    {
     "data": {
      "text/html": [
       "<div>\n",
       "<style scoped>\n",
       "    .dataframe tbody tr th:only-of-type {\n",
       "        vertical-align: middle;\n",
       "    }\n",
       "\n",
       "    .dataframe tbody tr th {\n",
       "        vertical-align: top;\n",
       "    }\n",
       "\n",
       "    .dataframe thead th {\n",
       "        text-align: right;\n",
       "    }\n",
       "</style>\n",
       "<table border=\"1\" class=\"dataframe\">\n",
       "  <thead>\n",
       "    <tr style=\"text-align: right;\">\n",
       "      <th></th>\n",
       "      <th>持续时间</th>\n",
       "      <th>协议类型</th>\n",
       "      <th>连接状态</th>\n",
       "      <th>发送字节数</th>\n",
       "      <th>接收字节数</th>\n",
       "      <th>加急包个数</th>\n",
       "      <th>访问敏感文件和目录次数</th>\n",
       "      <th>登录失败次数</th>\n",
       "      <th>登录成功次数</th>\n",
       "    </tr>\n",
       "  </thead>\n",
       "  <tbody>\n",
       "    <tr>\n",
       "      <th>0</th>\n",
       "      <td>0</td>\n",
       "      <td>tcp</td>\n",
       "      <td>SF</td>\n",
       "      <td>181</td>\n",
       "      <td>5450</td>\n",
       "      <td>0</td>\n",
       "      <td>0</td>\n",
       "      <td>0</td>\n",
       "      <td>1</td>\n",
       "    </tr>\n",
       "    <tr>\n",
       "      <th>1</th>\n",
       "      <td>0</td>\n",
       "      <td>tcp</td>\n",
       "      <td>SF</td>\n",
       "      <td>239</td>\n",
       "      <td>486</td>\n",
       "      <td>0</td>\n",
       "      <td>0</td>\n",
       "      <td>0</td>\n",
       "      <td>1</td>\n",
       "    </tr>\n",
       "    <tr>\n",
       "      <th>2</th>\n",
       "      <td>0</td>\n",
       "      <td>tcp</td>\n",
       "      <td>SF</td>\n",
       "      <td>235</td>\n",
       "      <td>1337</td>\n",
       "      <td>0</td>\n",
       "      <td>0</td>\n",
       "      <td>0</td>\n",
       "      <td>1</td>\n",
       "    </tr>\n",
       "    <tr>\n",
       "      <th>3</th>\n",
       "      <td>0</td>\n",
       "      <td>tcp</td>\n",
       "      <td>SF</td>\n",
       "      <td>219</td>\n",
       "      <td>1337</td>\n",
       "      <td>0</td>\n",
       "      <td>0</td>\n",
       "      <td>0</td>\n",
       "      <td>1</td>\n",
       "    </tr>\n",
       "    <tr>\n",
       "      <th>4</th>\n",
       "      <td>0</td>\n",
       "      <td>tcp</td>\n",
       "      <td>SF</td>\n",
       "      <td>217</td>\n",
       "      <td>2032</td>\n",
       "      <td>0</td>\n",
       "      <td>0</td>\n",
       "      <td>0</td>\n",
       "      <td>1</td>\n",
       "    </tr>\n",
       "    <tr>\n",
       "      <th>...</th>\n",
       "      <td>...</td>\n",
       "      <td>...</td>\n",
       "      <td>...</td>\n",
       "      <td>...</td>\n",
       "      <td>...</td>\n",
       "      <td>...</td>\n",
       "      <td>...</td>\n",
       "      <td>...</td>\n",
       "      <td>...</td>\n",
       "    </tr>\n",
       "    <tr>\n",
       "      <th>494016</th>\n",
       "      <td>0</td>\n",
       "      <td>tcp</td>\n",
       "      <td>SF</td>\n",
       "      <td>310</td>\n",
       "      <td>1881</td>\n",
       "      <td>0</td>\n",
       "      <td>0</td>\n",
       "      <td>0</td>\n",
       "      <td>1</td>\n",
       "    </tr>\n",
       "    <tr>\n",
       "      <th>494017</th>\n",
       "      <td>0</td>\n",
       "      <td>tcp</td>\n",
       "      <td>SF</td>\n",
       "      <td>282</td>\n",
       "      <td>2286</td>\n",
       "      <td>0</td>\n",
       "      <td>0</td>\n",
       "      <td>0</td>\n",
       "      <td>1</td>\n",
       "    </tr>\n",
       "    <tr>\n",
       "      <th>494018</th>\n",
       "      <td>0</td>\n",
       "      <td>tcp</td>\n",
       "      <td>SF</td>\n",
       "      <td>203</td>\n",
       "      <td>1200</td>\n",
       "      <td>0</td>\n",
       "      <td>0</td>\n",
       "      <td>0</td>\n",
       "      <td>1</td>\n",
       "    </tr>\n",
       "    <tr>\n",
       "      <th>494019</th>\n",
       "      <td>0</td>\n",
       "      <td>tcp</td>\n",
       "      <td>SF</td>\n",
       "      <td>291</td>\n",
       "      <td>1200</td>\n",
       "      <td>0</td>\n",
       "      <td>0</td>\n",
       "      <td>0</td>\n",
       "      <td>1</td>\n",
       "    </tr>\n",
       "    <tr>\n",
       "      <th>494020</th>\n",
       "      <td>0</td>\n",
       "      <td>tcp</td>\n",
       "      <td>SF</td>\n",
       "      <td>219</td>\n",
       "      <td>1234</td>\n",
       "      <td>0</td>\n",
       "      <td>0</td>\n",
       "      <td>0</td>\n",
       "      <td>1</td>\n",
       "    </tr>\n",
       "  </tbody>\n",
       "</table>\n",
       "<p>494021 rows × 9 columns</p>\n",
       "</div>"
      ],
      "text/plain": [
       "        持续时间 协议类型 连接状态  发送字节数  接收字节数  加急包个数  访问敏感文件和目录次数  登录失败次数  登录成功次数\n",
       "0          0  tcp   SF    181   5450      0            0       0       1\n",
       "1          0  tcp   SF    239    486      0            0       0       1\n",
       "2          0  tcp   SF    235   1337      0            0       0       1\n",
       "3          0  tcp   SF    219   1337      0            0       0       1\n",
       "4          0  tcp   SF    217   2032      0            0       0       1\n",
       "...      ...  ...  ...    ...    ...    ...          ...     ...     ...\n",
       "494016     0  tcp   SF    310   1881      0            0       0       1\n",
       "494017     0  tcp   SF    282   2286      0            0       0       1\n",
       "494018     0  tcp   SF    203   1200      0            0       0       1\n",
       "494019     0  tcp   SF    291   1200      0            0       0       1\n",
       "494020     0  tcp   SF    219   1234      0            0       0       1\n",
       "\n",
       "[494021 rows x 9 columns]"
      ]
     },
     "execution_count": 76,
     "metadata": {},
     "output_type": "execute_result"
    }
   ],
   "source": [
    "import pandas as pd\n",
    "from sklearn.preprocessing import MinMaxScaler\n",
    "import numpy as np\n",
    "\n",
    "# 加载数据\n",
    "df = pd.read_csv('D:\\KDD_CUP_99\\kdd_cup\\DataConvy.csv')\n",
    "df"
   ]
  },
  {
   "cell_type": "code",
   "execution_count": null,
   "id": "e03b0eb8",
   "metadata": {},
   "outputs": [],
   "source": [
    "# 标准化\n",
    "from sklearn.preprocessing import StandardScaler\n",
    "ss = StandardScaler()\n",
    "data = [anomalies_count]\n",
    "ss.fit_transform(data)"
   ]
  },
  {
   "cell_type": "code",
   "execution_count": 14,
   "id": "0e6dfda0",
   "metadata": {},
   "outputs": [],
   "source": [
    "from sklearn.model_selection import train_test_split\n",
    "from sklearn.neighbors import KNeighborsClassifier\n",
    "\n",
    "# 提取样本数据\n",
    "target = df['发送字节数']\n",
    "\n",
    "# 有许多特征与发送字节数无关，所以需要手动抽取关联特征\n",
    "# 提取出特征：1. 持续时间 2. 协议类型 3. 接收字节数 4. 加急包个数\n",
    "feature = df[['持续时间','协议类型','接收字节数','加急包个数']]\n",
    "# feature.shape  # (494021, 4)  494021行 4列\n",
    "# target.shape   # (494021,)\n",
    "\n",
    "# 数据集拆分：拆分完观察样本数据中的特征是否需要特征工程。10%比例\n",
    "x_train, x_test, y_train, y_test = train_test_split(feature,target,test_size=0.1,random_state=2020)\n",
    "\n",
    "# 观察特征数据是否需要特征工程。协议类型为非数值型数据，需要特征值化，转换为数值型数据\n",
    "# x_train\n",
    "\n",
    "# 对训练集特征进行手动onehot编码\n",
    "occ_one_hot = pd.get_dummies(x_train['协议类型'])\n",
    "# occ_one_hot\n",
    "\n",
    "# 将 occ_one_hot 与 x_train 进行级联。x_train 为 DataFrame，axis=0表示行，axis=1表示列\n",
    "# pd.concat((x_train, occ_one_hot),axis=1)\n",
    "x_train = pd.concat((x_train, occ_one_hot),axis=1).drop(labels='协议类型',axis=1)\n",
    "# x_train\n",
    "\n",
    "# 对测试集特征进行手动onehot编码\n",
    "occ_one_hot_test = pd.get_dummies(x_test['协议类型'])\n",
    "# occ_one_hot_test\n",
    "\n",
    "# 对测试集级联\n",
    "x_test = pd.concat((x_test, occ_one_hot_test),axis=1).drop(labels='协议类型',axis=1)"
   ]
  },
  {
   "cell_type": "markdown",
   "id": "67b80b58",
   "metadata": {},
   "source": [
    "# 进行训练"
   ]
  },
  {
   "cell_type": "code",
   "execution_count": 31,
   "id": "fb09ecf5",
   "metadata": {},
   "outputs": [
    {
     "name": "stdout",
     "output_type": "stream",
     "text": [
      "模型得分为： 0.7302997793656256\n",
      "Running time: 99.3656662000003\n"
     ]
    }
   ],
   "source": [
    "import time\n",
    "start_time=time.perf_counter()\n",
    "\n",
    "# 实例化KNN，并传入训练集数据\n",
    "knn = KNeighborsClassifier(n_neighbors=10, n_jobs = -1).fit(x_train, y_train)\n",
    "\n",
    "# 查看训练结果\n",
    "reslt_score = knn.score(x_test, y_test)\n",
    "print('模型得分为：',reslt_score)\n",
    "\n",
    "end_time=time.perf_counter()\n",
    "print(\"Running time:\",(end_time-start_time))  #输出程序运行时间"
   ]
  },
  {
   "cell_type": "markdown",
   "id": "d72c03be",
   "metadata": {},
   "source": [
    "# 探索模型训练最适线程数"
   ]
  },
  {
   "cell_type": "code",
   "execution_count": 12,
   "id": "6ff6df07",
   "metadata": {},
   "outputs": [],
   "source": [
    "import time\n",
    "scores = []\n",
    "threads = []\n",
    "times = []\n",
    "\n",
    "# 用学习曲线，寻找最适线程数\n",
    "for i in range(1,9):\n",
    "    start_time = time.perf_counter()\n",
    "    # 实例化\n",
    "    knn = KNeighborsClassifier(n_neighbors=10, n_jobs = i)\n",
    "    \n",
    "    # 训练模型\n",
    "    knn.fit(x_train, y_train)\n",
    "    \n",
    "    # 训练好模型后进行评分\n",
    "    score = knn.score(x_test, y_test)\n",
    "    \n",
    "    end_time = time.perf_counter()\n",
    "    \n",
    "    # 拿到不同threads的时间\n",
    "    scores.append(score)\n",
    "    threads.append(i)\n",
    "    times.append(end_time-start_time)\n",
    "    \n",
    "# 转换为np数组\n",
    "scores_arr = np.array(scores)\n",
    "threads_arr = np.array(threads)\n",
    "times_arr = np.array(times)"
   ]
  },
  {
   "cell_type": "code",
   "execution_count": 13,
   "id": "abb77e9b",
   "metadata": {},
   "outputs": [
    {
     "name": "stdout",
     "output_type": "stream",
     "text": [
      "最短时间的线程数为： 8\n"
     ]
    },
    {
     "data": {
      "image/png": "[encoded data removed]",
      "text/plain": [
       "<Figure size 432x288 with 1 Axes>"
      ]
     },
     "metadata": {
      "needs_background": "light"
     },
     "output_type": "display_data"
    }
   ],
   "source": [
    "# 绘图  参数：(自变量，因变量)\n",
    "plt.plot(threads, times)\n",
    "plt.xlabel('threads')\n",
    "plt.ylabel('times')\n",
    "\n",
    "# 找出最大值。scores_arr.argmax() 最大值下标\n",
    "min_time = threads_arr[times_arr.argmin()]\n",
    "print('最短时间的线程数为：', min_time)"
   ]
  },
  {
   "cell_type": "code",
   "execution_count": 15,
   "id": "628e4d2e",
   "metadata": {},
   "outputs": [
    {
     "data": {
      "text/plain": [
       "Text(0, 0.5, 'scores')"
      ]
     },
     "execution_count": 15,
     "metadata": {},
     "output_type": "execute_result"
    },
    {
     "data": {
      "image/png": "[encoded data removed]",
      "text/plain": [
       "<Figure size 432x288 with 1 Axes>"
      ]
     },
     "metadata": {
      "needs_background": "light"
     },
     "output_type": "display_data"
    }
   ],
   "source": [
    "# 绘图  参数：(自变量，因变量)\n",
    "plt.plot(threads, scores)\n",
    "plt.xlabel('threads')\n",
    "plt.ylabel('scores')"
   ]
  },
  {
   "cell_type": "markdown",
   "id": "8f7a8d92",
   "metadata": {},
   "source": [
    "## 优化KNN模型，探索最适K值"
   ]
  },
  {
   "cell_type": "code",
   "execution_count": 16,
   "id": "5bd35412",
   "metadata": {},
   "outputs": [
    {
     "name": "stdout",
     "output_type": "stream",
     "text": [
      "Running time: 5100.5635838\n"
     ]
    }
   ],
   "source": [
    "start_time=time.perf_counter()\n",
    "scores = []\n",
    "ks = []\n",
    "\n",
    "# 用学习曲线，寻找最优K值\n",
    "for i in range(1,51):\n",
    "    # 实例化\n",
    "    knn = KNeighborsClassifier(n_neighbors=i, n_jobs = -1)\n",
    "    \n",
    "    # 训练模型\n",
    "    knn.fit(x_train, y_train)\n",
    "    \n",
    "    # 训练好模型后进行评分\n",
    "    score = knn.score(x_test, y_test)\n",
    "    \n",
    "    # 拿到不同K的得分\n",
    "    scores.append(score)\n",
    "    ks.append(i)\n",
    "    \n",
    "# 转换为np数组\n",
    "scores_arr = np.array(scores)\n",
    "ks_arr = np.array(ks)\n",
    "\n",
    "end_time=time.perf_counter()\n",
    "print(\"Running time:\",(end_time-start_time))  #输出程序运行时间"
   ]
  },
  {
   "cell_type": "code",
   "execution_count": 17,
   "id": "2606013e",
   "metadata": {},
   "outputs": [
    {
     "name": "stdout",
     "output_type": "stream",
     "text": [
      "最优的K为 29\n"
     ]
    },
    {
     "data": {
      "image/png": "[encoded data removed]",
      "text/plain": [
       "<Figure size 432x288 with 1 Axes>"
      ]
     },
     "metadata": {
      "needs_background": "light"
     },
     "output_type": "display_data"
    }
   ],
   "source": [
    "# 绘图  参数：(自变量，因变量)\n",
    "plt.plot(ks_arr, scores_arr)\n",
    "plt.xlabel('k_value')\n",
    "plt.ylabel('score')\n",
    "\n",
    "# 找出最大值。scores_arr.argmax() 最大值下标\n",
    "max_k = ks_arr[scores_arr.argmax()]\n",
    "print('最优的K为', max_k)"
   ]
  },
  {
   "cell_type": "code",
   "execution_count": 28,
   "id": "8749fefe",
   "metadata": {},
   "outputs": [],
   "source": [
    "# 实例化\n",
    "knn1 = KNeighborsClassifier(n_neighbors=29, n_jobs = -1)\n",
    "# 训练模型\n",
    "knn1.fit(x_train, y_train)\n",
    "# 训练好模型后进行评分\n",
    "score = knn1.score(x_test, y_test)"
   ]
  },
  {
   "cell_type": "markdown",
   "id": "a35b105d",
   "metadata": {},
   "source": [
    "## 用训练好的模型对发送字节数进行预测"
   ]
  },
  {
   "cell_type": "code",
   "execution_count": 61,
   "id": "f2b51343",
   "metadata": {},
   "outputs": [
    {
     "name": "stderr",
     "output_type": "stream",
     "text": [
      "D:\\DATA\\ProgramData\\Anaconda\\lib\\site-packages\\sklearn\\base.py:450: UserWarning: X does not have valid feature names, but KNeighborsClassifier was fitted with feature names\n",
      "  warnings.warn(\n"
     ]
    },
    {
     "data": {
      "text/plain": [
       "array([232], dtype=int64)"
      ]
     },
     "execution_count": 61,
     "metadata": {},
     "output_type": "execute_result"
    }
   ],
   "source": [
    "knn1.predict([[0,3222,0,0,1,0]])"
   ]
  },
  {
   "cell_type": "code",
   "execution_count": 60,
   "id": "f213673e",
   "metadata": {},
   "outputs": [
    {
     "data": {
      "text/plain": [
       "持续时间        0\n",
       "接收字节数    3222\n",
       "加急包个数       0\n",
       "icmp        0\n",
       "tcp         1\n",
       "udp         0\n",
       "Name: 74274, dtype: int64"
      ]
     },
     "execution_count": 60,
     "metadata": {},
     "output_type": "execute_result"
    }
   ],
   "source": [
    "x_train.loc[74274]"
   ]
  },
  {
   "cell_type": "markdown",
   "id": "bca6d915",
   "metadata": {},
   "source": [
    "## rootkit 模型重建"
   ]
  },
  {
   "cell_type": "code",
   "execution_count": 3,
   "id": "432ee3e3",
   "metadata": {},
   "outputs": [
    {
     "data": {
      "text/html": [
       "<div>\n",
       "<style scoped>\n",
       "    .dataframe tbody tr th:only-of-type {\n",
       "        vertical-align: middle;\n",
       "    }\n",
       "\n",
       "    .dataframe tbody tr th {\n",
       "        vertical-align: top;\n",
       "    }\n",
       "\n",
       "    .dataframe thead th {\n",
       "        text-align: right;\n",
       "    }\n",
       "</style>\n",
       "<table border=\"1\" class=\"dataframe\">\n",
       "  <thead>\n",
       "    <tr style=\"text-align: right;\">\n",
       "      <th></th>\n",
       "      <th>0</th>\n",
       "      <th>1</th>\n",
       "      <th>2</th>\n",
       "      <th>3</th>\n",
       "      <th>4</th>\n",
       "      <th>5</th>\n",
       "      <th>6</th>\n",
       "      <th>7</th>\n",
       "      <th>8</th>\n",
       "      <th>9</th>\n",
       "      <th>...</th>\n",
       "      <th>32</th>\n",
       "      <th>33</th>\n",
       "      <th>34</th>\n",
       "      <th>35</th>\n",
       "      <th>36</th>\n",
       "      <th>37</th>\n",
       "      <th>38</th>\n",
       "      <th>39</th>\n",
       "      <th>40</th>\n",
       "      <th>41</th>\n",
       "    </tr>\n",
       "  </thead>\n",
       "  <tbody>\n",
       "    <tr>\n",
       "      <th>0</th>\n",
       "      <td>0</td>\n",
       "      <td>tcp</td>\n",
       "      <td>http</td>\n",
       "      <td>SF</td>\n",
       "      <td>181</td>\n",
       "      <td>5450</td>\n",
       "      <td>0</td>\n",
       "      <td>0</td>\n",
       "      <td>[8]</td>\n",
       "      <td>0</td>\n",
       "      <td>...</td>\n",
       "      <td>9</td>\n",
       "      <td>1.0</td>\n",
       "      <td>0.0</td>\n",
       "      <td>0.11</td>\n",
       "      <td>0.00</td>\n",
       "      <td>0.00</td>\n",
       "      <td>0.00</td>\n",
       "      <td>0.0</td>\n",
       "      <td>0.0</td>\n",
       "      <td>normal.</td>\n",
       "    </tr>\n",
       "    <tr>\n",
       "      <th>1</th>\n",
       "      <td>0</td>\n",
       "      <td>tcp</td>\n",
       "      <td>http</td>\n",
       "      <td>SF</td>\n",
       "      <td>239</td>\n",
       "      <td>486</td>\n",
       "      <td>0</td>\n",
       "      <td>0</td>\n",
       "      <td>[8]</td>\n",
       "      <td>0</td>\n",
       "      <td>...</td>\n",
       "      <td>19</td>\n",
       "      <td>1.0</td>\n",
       "      <td>0.0</td>\n",
       "      <td>0.05</td>\n",
       "      <td>0.00</td>\n",
       "      <td>0.00</td>\n",
       "      <td>0.00</td>\n",
       "      <td>0.0</td>\n",
       "      <td>0.0</td>\n",
       "      <td>normal.</td>\n",
       "    </tr>\n",
       "    <tr>\n",
       "      <th>2</th>\n",
       "      <td>0</td>\n",
       "      <td>tcp</td>\n",
       "      <td>http</td>\n",
       "      <td>SF</td>\n",
       "      <td>235</td>\n",
       "      <td>1337</td>\n",
       "      <td>0</td>\n",
       "      <td>0</td>\n",
       "      <td>[8]</td>\n",
       "      <td>0</td>\n",
       "      <td>...</td>\n",
       "      <td>29</td>\n",
       "      <td>1.0</td>\n",
       "      <td>0.0</td>\n",
       "      <td>0.03</td>\n",
       "      <td>0.00</td>\n",
       "      <td>0.00</td>\n",
       "      <td>0.00</td>\n",
       "      <td>0.0</td>\n",
       "      <td>0.0</td>\n",
       "      <td>normal.</td>\n",
       "    </tr>\n",
       "    <tr>\n",
       "      <th>3</th>\n",
       "      <td>0</td>\n",
       "      <td>tcp</td>\n",
       "      <td>http</td>\n",
       "      <td>SF</td>\n",
       "      <td>219</td>\n",
       "      <td>1337</td>\n",
       "      <td>0</td>\n",
       "      <td>0</td>\n",
       "      <td>[8]</td>\n",
       "      <td>0</td>\n",
       "      <td>...</td>\n",
       "      <td>39</td>\n",
       "      <td>1.0</td>\n",
       "      <td>0.0</td>\n",
       "      <td>0.03</td>\n",
       "      <td>0.00</td>\n",
       "      <td>0.00</td>\n",
       "      <td>0.00</td>\n",
       "      <td>0.0</td>\n",
       "      <td>0.0</td>\n",
       "      <td>normal.</td>\n",
       "    </tr>\n",
       "    <tr>\n",
       "      <th>4</th>\n",
       "      <td>0</td>\n",
       "      <td>tcp</td>\n",
       "      <td>http</td>\n",
       "      <td>SF</td>\n",
       "      <td>217</td>\n",
       "      <td>2032</td>\n",
       "      <td>0</td>\n",
       "      <td>0</td>\n",
       "      <td>[8]</td>\n",
       "      <td>0</td>\n",
       "      <td>...</td>\n",
       "      <td>49</td>\n",
       "      <td>1.0</td>\n",
       "      <td>0.0</td>\n",
       "      <td>0.02</td>\n",
       "      <td>0.00</td>\n",
       "      <td>0.00</td>\n",
       "      <td>0.00</td>\n",
       "      <td>0.0</td>\n",
       "      <td>0.0</td>\n",
       "      <td>normal.</td>\n",
       "    </tr>\n",
       "    <tr>\n",
       "      <th>...</th>\n",
       "      <td>...</td>\n",
       "      <td>...</td>\n",
       "      <td>...</td>\n",
       "      <td>...</td>\n",
       "      <td>...</td>\n",
       "      <td>...</td>\n",
       "      <td>...</td>\n",
       "      <td>...</td>\n",
       "      <td>...</td>\n",
       "      <td>...</td>\n",
       "      <td>...</td>\n",
       "      <td>...</td>\n",
       "      <td>...</td>\n",
       "      <td>...</td>\n",
       "      <td>...</td>\n",
       "      <td>...</td>\n",
       "      <td>...</td>\n",
       "      <td>...</td>\n",
       "      <td>...</td>\n",
       "      <td>...</td>\n",
       "      <td>...</td>\n",
       "    </tr>\n",
       "    <tr>\n",
       "      <th>494016</th>\n",
       "      <td>0</td>\n",
       "      <td>tcp</td>\n",
       "      <td>http</td>\n",
       "      <td>SF</td>\n",
       "      <td>310</td>\n",
       "      <td>1881</td>\n",
       "      <td>0</td>\n",
       "      <td>0</td>\n",
       "      <td>[8]</td>\n",
       "      <td>0</td>\n",
       "      <td>...</td>\n",
       "      <td>255</td>\n",
       "      <td>1.0</td>\n",
       "      <td>0.0</td>\n",
       "      <td>0.01</td>\n",
       "      <td>0.05</td>\n",
       "      <td>0.00</td>\n",
       "      <td>0.01</td>\n",
       "      <td>0.0</td>\n",
       "      <td>0.0</td>\n",
       "      <td>normal.</td>\n",
       "    </tr>\n",
       "    <tr>\n",
       "      <th>494017</th>\n",
       "      <td>0</td>\n",
       "      <td>tcp</td>\n",
       "      <td>http</td>\n",
       "      <td>SF</td>\n",
       "      <td>282</td>\n",
       "      <td>2286</td>\n",
       "      <td>0</td>\n",
       "      <td>0</td>\n",
       "      <td>[8]</td>\n",
       "      <td>0</td>\n",
       "      <td>...</td>\n",
       "      <td>255</td>\n",
       "      <td>1.0</td>\n",
       "      <td>0.0</td>\n",
       "      <td>0.17</td>\n",
       "      <td>0.05</td>\n",
       "      <td>0.00</td>\n",
       "      <td>0.01</td>\n",
       "      <td>0.0</td>\n",
       "      <td>0.0</td>\n",
       "      <td>normal.</td>\n",
       "    </tr>\n",
       "    <tr>\n",
       "      <th>494018</th>\n",
       "      <td>0</td>\n",
       "      <td>tcp</td>\n",
       "      <td>http</td>\n",
       "      <td>SF</td>\n",
       "      <td>203</td>\n",
       "      <td>1200</td>\n",
       "      <td>0</td>\n",
       "      <td>0</td>\n",
       "      <td>[8]</td>\n",
       "      <td>0</td>\n",
       "      <td>...</td>\n",
       "      <td>255</td>\n",
       "      <td>1.0</td>\n",
       "      <td>0.0</td>\n",
       "      <td>0.06</td>\n",
       "      <td>0.05</td>\n",
       "      <td>0.06</td>\n",
       "      <td>0.01</td>\n",
       "      <td>0.0</td>\n",
       "      <td>0.0</td>\n",
       "      <td>normal.</td>\n",
       "    </tr>\n",
       "    <tr>\n",
       "      <th>494019</th>\n",
       "      <td>0</td>\n",
       "      <td>tcp</td>\n",
       "      <td>http</td>\n",
       "      <td>SF</td>\n",
       "      <td>291</td>\n",
       "      <td>1200</td>\n",
       "      <td>0</td>\n",
       "      <td>0</td>\n",
       "      <td>[8]</td>\n",
       "      <td>0</td>\n",
       "      <td>...</td>\n",
       "      <td>255</td>\n",
       "      <td>1.0</td>\n",
       "      <td>0.0</td>\n",
       "      <td>0.04</td>\n",
       "      <td>0.05</td>\n",
       "      <td>0.04</td>\n",
       "      <td>0.01</td>\n",
       "      <td>0.0</td>\n",
       "      <td>0.0</td>\n",
       "      <td>normal.</td>\n",
       "    </tr>\n",
       "    <tr>\n",
       "      <th>494020</th>\n",
       "      <td>0</td>\n",
       "      <td>tcp</td>\n",
       "      <td>http</td>\n",
       "      <td>SF</td>\n",
       "      <td>219</td>\n",
       "      <td>1234</td>\n",
       "      <td>0</td>\n",
       "      <td>0</td>\n",
       "      <td>[8]</td>\n",
       "      <td>0</td>\n",
       "      <td>...</td>\n",
       "      <td>255</td>\n",
       "      <td>1.0</td>\n",
       "      <td>0.0</td>\n",
       "      <td>0.17</td>\n",
       "      <td>0.05</td>\n",
       "      <td>0.00</td>\n",
       "      <td>0.01</td>\n",
       "      <td>0.0</td>\n",
       "      <td>0.0</td>\n",
       "      <td>normal.</td>\n",
       "    </tr>\n",
       "  </tbody>\n",
       "</table>\n",
       "<p>494021 rows × 42 columns</p>\n",
       "</div>"
      ],
      "text/plain": [
       "        0    1     2   3    4     5   6   7    8   9   ...   32   33   34  \\\n",
       "0        0  tcp  http  SF  181  5450   0   0  [8]   0  ...    9  1.0  0.0   \n",
       "1        0  tcp  http  SF  239   486   0   0  [8]   0  ...   19  1.0  0.0   \n",
       "2        0  tcp  http  SF  235  1337   0   0  [8]   0  ...   29  1.0  0.0   \n",
       "3        0  tcp  http  SF  219  1337   0   0  [8]   0  ...   39  1.0  0.0   \n",
       "4        0  tcp  http  SF  217  2032   0   0  [8]   0  ...   49  1.0  0.0   \n",
       "...     ..  ...   ...  ..  ...   ...  ..  ..  ...  ..  ...  ...  ...  ...   \n",
       "494016   0  tcp  http  SF  310  1881   0   0  [8]   0  ...  255  1.0  0.0   \n",
       "494017   0  tcp  http  SF  282  2286   0   0  [8]   0  ...  255  1.0  0.0   \n",
       "494018   0  tcp  http  SF  203  1200   0   0  [8]   0  ...  255  1.0  0.0   \n",
       "494019   0  tcp  http  SF  291  1200   0   0  [8]   0  ...  255  1.0  0.0   \n",
       "494020   0  tcp  http  SF  219  1234   0   0  [8]   0  ...  255  1.0  0.0   \n",
       "\n",
       "          35    36    37    38   39   40       41  \n",
       "0       0.11  0.00  0.00  0.00  0.0  0.0  normal.  \n",
       "1       0.05  0.00  0.00  0.00  0.0  0.0  normal.  \n",
       "2       0.03  0.00  0.00  0.00  0.0  0.0  normal.  \n",
       "3       0.03  0.00  0.00  0.00  0.0  0.0  normal.  \n",
       "4       0.02  0.00  0.00  0.00  0.0  0.0  normal.  \n",
       "...      ...   ...   ...   ...  ...  ...      ...  \n",
       "494016  0.01  0.05  0.00  0.01  0.0  0.0  normal.  \n",
       "494017  0.17  0.05  0.00  0.01  0.0  0.0  normal.  \n",
       "494018  0.06  0.05  0.06  0.01  0.0  0.0  normal.  \n",
       "494019  0.04  0.05  0.04  0.01  0.0  0.0  normal.  \n",
       "494020  0.17  0.05  0.00  0.01  0.0  0.0  normal.  \n",
       "\n",
       "[494021 rows x 42 columns]"
      ]
     },
     "execution_count": 3,
     "metadata": {},
     "output_type": "execute_result"
    }
   ],
   "source": [
    "import pandas as pd\n",
    "# 加载数据\n",
    "df = pd.read_csv('D:\\KDD_CUP_99\\kdd_cup\\AllData.csv',header=None)\n",
    "df"
   ]
  },
  {
   "cell_type": "code",
   "execution_count": 6,
   "id": "104054d5",
   "metadata": {},
   "outputs": [],
   "source": [
    "v=[]\n",
    "w=[]\n",
    "y=[]\n",
    "# 筛选标记为KDD99和normal且是telent的数据\n",
    "for x1 in range(0,len(df)):\n",
    "    if ( df.loc[x1][41] in ['rootkit.','normal.'] ) and ( df.loc[x1][2] == 'telnet' ):\n",
    "        if df.loc[x1][41] == 'rootkit.':\n",
    "            y.append(1)\n",
    "        else:\n",
    "            y.append(0)\n",
    "\n",
    "        x1 = df.loc[x1][9:21]\n",
    "        v.append(x1)\n",
    "\n",
    "#挑选与Rookit相关的特征作为样本特征\n",
    "for x1 in v :\n",
    "    v1=[]\n",
    "    for x2 in x1:\n",
    "        v1.append(float(x2))\n",
    "    w.append(v1)"
   ]
  },
  {
   "cell_type": "code",
   "execution_count": 13,
   "id": "c2f97ec7",
   "metadata": {},
   "outputs": [
    {
     "name": "stdout",
     "output_type": "stream",
     "text": [
      "0.9259001161440186\n"
     ]
    }
   ],
   "source": [
    "clf = KNeighborsClassifier(n_neighbors=3)\n",
    "print(cv.cross_val_score(clf, w, y, n_jobs=-1, cv=10).mean())"
   ]
  },
  {
   "cell_type": "markdown",
   "id": "18e64527",
   "metadata": {},
   "source": [
    "## neptune 模型"
   ]
  },
  {
   "cell_type": "code",
   "execution_count": 8,
   "id": "76923639",
   "metadata": {},
   "outputs": [],
   "source": [
    "from sklearn import model_selection as cv\n",
    "v = [] #  每条数据的具体特征\n",
    "w = []\n",
    "y = []\n",
    "# 筛选标记为KDD99和normal且是telent的数据\n",
    "for x1 in range(0,len(df)):\n",
    "    if ( df.loc[x1][41] in ['neptune.','normal.'] ) and ( df.loc[x1][2] == 'telnet' ):\n",
    "        if df.loc[x1][41] == 'neptune.':\n",
    "            y.append(1)\n",
    "        else:\n",
    "            y.append(0)\n",
    "\n",
    "        x1 = df.loc[x1][9:21]\n",
    "        v.append(x1)\n",
    "\n",
    "#挑选与 neptune 相关的特征作为样本特征\n",
    "for x1 in v :\n",
    "    v1=[]\n",
    "    for x2 in x1:\n",
    "        v1.append(float(x2))\n",
    "    w.append(v1)"
   ]
  },
  {
   "cell_type": "markdown",
   "id": "e1361aa4",
   "metadata": {},
   "source": [
    "## 交叉验证"
   ]
  },
  {
   "cell_type": "code",
   "execution_count": 18,
   "id": "3328048b",
   "metadata": {},
   "outputs": [
    {
     "name": "stdout",
     "output_type": "stream",
     "text": [
      "0.9615605278255881\n"
     ]
    }
   ],
   "source": [
    "clf = KNeighborsClassifier(n_neighbors=30)\n",
    "print(cv.cross_val_score(clf, w, y, n_jobs=-1, cv=5).mean())"
   ]
  },
  {
   "cell_type": "markdown",
   "id": "ea9d3215",
   "metadata": {},
   "source": [
    "## 获取交叉验证超参数"
   ]
  },
  {
   "cell_type": "code",
   "execution_count": 5,
   "id": "85b53e33",
   "metadata": {},
   "outputs": [],
   "source": [
    "from sklearn.model_selection import train_test_split\n",
    "from sklearn.neighbors import KNeighborsClassifier\n",
    "from sklearn import model_selection as cv\n",
    "\n",
    "# 提取样本数据\n",
    "target = df[41]\n",
    "\n",
    "# 有许多特征与发送字节数无关，所以需要手动抽取关联特征\n",
    "feature = df[[9,10,11,12,13,14,15,16,17,18,19,20,21]]\n",
    "\n",
    "# 数据集拆分：拆分完观察样本数据中的特征是否需要特征工程。10%比例\n",
    "x_train, x_test, y_train, y_test = train_test_split(feature,target,test_size=0.1,random_state=2020)\n",
    "\n",
    "# 观察特征数据是否需要特征工程。协议类型为非数值型数据，需要特征值化，转换为数值型数据\n",
    "# x_train"
   ]
  },
  {
   "cell_type": "code",
   "execution_count": 11,
   "id": "d791cc58",
   "metadata": {},
   "outputs": [
    {
     "name": "stderr",
     "output_type": "stream",
     "text": [
      "D:\\DATA\\ProgramData\\Anaconda\\lib\\site-packages\\sklearn\\model_selection\\_split.py:676: UserWarning: The least populated class in y has only 2 members, which is less than n_splits=5.\n",
      "  warnings.warn(\n",
      "D:\\DATA\\ProgramData\\Anaconda\\lib\\site-packages\\sklearn\\model_selection\\_split.py:676: UserWarning: The least populated class in y has only 2 members, which is less than n_splits=5.\n",
      "  warnings.warn(\n",
      "D:\\DATA\\ProgramData\\Anaconda\\lib\\site-packages\\sklearn\\model_selection\\_split.py:676: UserWarning: The least populated class in y has only 2 members, which is less than n_splits=5.\n",
      "  warnings.warn(\n",
      "D:\\DATA\\ProgramData\\Anaconda\\lib\\site-packages\\sklearn\\model_selection\\_split.py:676: UserWarning: The least populated class in y has only 2 members, which is less than n_splits=5.\n",
      "  warnings.warn(\n",
      "D:\\DATA\\ProgramData\\Anaconda\\lib\\site-packages\\sklearn\\model_selection\\_split.py:676: UserWarning: The least populated class in y has only 2 members, which is less than n_splits=5.\n",
      "  warnings.warn(\n",
      "D:\\DATA\\ProgramData\\Anaconda\\lib\\site-packages\\sklearn\\model_selection\\_split.py:676: UserWarning: The least populated class in y has only 2 members, which is less than n_splits=5.\n",
      "  warnings.warn(\n",
      "D:\\DATA\\ProgramData\\Anaconda\\lib\\site-packages\\sklearn\\model_selection\\_split.py:676: UserWarning: The least populated class in y has only 2 members, which is less than n_splits=5.\n",
      "  warnings.warn(\n",
      "D:\\DATA\\ProgramData\\Anaconda\\lib\\site-packages\\sklearn\\model_selection\\_split.py:676: UserWarning: The least populated class in y has only 2 members, which is less than n_splits=5.\n",
      "  warnings.warn(\n",
      "D:\\DATA\\ProgramData\\Anaconda\\lib\\site-packages\\sklearn\\model_selection\\_split.py:676: UserWarning: The least populated class in y has only 2 members, which is less than n_splits=5.\n",
      "  warnings.warn(\n",
      "D:\\DATA\\ProgramData\\Anaconda\\lib\\site-packages\\sklearn\\model_selection\\_split.py:676: UserWarning: The least populated class in y has only 2 members, which is less than n_splits=5.\n",
      "  warnings.warn(\n",
      "D:\\DATA\\ProgramData\\Anaconda\\lib\\site-packages\\sklearn\\model_selection\\_split.py:676: UserWarning: The least populated class in y has only 2 members, which is less than n_splits=5.\n",
      "  warnings.warn(\n",
      "D:\\DATA\\ProgramData\\Anaconda\\lib\\site-packages\\sklearn\\model_selection\\_split.py:676: UserWarning: The least populated class in y has only 2 members, which is less than n_splits=5.\n",
      "  warnings.warn(\n",
      "D:\\DATA\\ProgramData\\Anaconda\\lib\\site-packages\\sklearn\\model_selection\\_split.py:676: UserWarning: The least populated class in y has only 2 members, which is less than n_splits=5.\n",
      "  warnings.warn(\n",
      "D:\\DATA\\ProgramData\\Anaconda\\lib\\site-packages\\sklearn\\model_selection\\_split.py:676: UserWarning: The least populated class in y has only 2 members, which is less than n_splits=5.\n",
      "  warnings.warn(\n"
     ]
    }
   ],
   "source": [
    "scores = []\n",
    "ks = []\n",
    "for k in range(1,15):\n",
    "    knn = KNeighborsClassifier(n_neighbors=k)\n",
    "    score = cv.cross_val_score(knn, x_train, y_train, n_jobs=-1).mean()\n",
    "    scores.append(score)\n",
    "    ks.append(k)"
   ]
  },
  {
   "cell_type": "code",
   "execution_count": 12,
   "id": "3b7b6daa",
   "metadata": {},
   "outputs": [
    {
     "data": {
      "text/plain": [
       "[<matplotlib.lines.Line2D at 0x13b8a3fc490>]"
      ]
     },
     "execution_count": 12,
     "metadata": {},
     "output_type": "execute_result"
    },
    {
     "data": {
      "image/png": "[encoded data removed]",
      "text/plain": [
       "<Figure size 432x288 with 1 Axes>"
      ]
     },
     "metadata": {
      "needs_background": "light"
     },
     "output_type": "display_data"
    }
   ],
   "source": [
    "import matplotlib.pyplot as plt\n",
    "plt.plot(ks,scores)"
   ]
  },
  {
   "cell_type": "code",
   "execution_count": 30,
   "id": "d4f11b9e",
   "metadata": {},
   "outputs": [
    {
     "data": {
      "text/plain": [
       "KNeighborsClassifier(n_neighbors=7)"
      ]
     },
     "execution_count": 30,
     "metadata": {},
     "output_type": "execute_result"
    }
   ],
   "source": [
    "# 训练模型\n",
    "knn.fit(x_train, y_train)"
   ]
  },
  {
   "cell_type": "markdown",
   "id": "544395bc",
   "metadata": {},
   "source": [
    "# 09/11/2022"
   ]
  },
  {
   "cell_type": "code",
   "execution_count": 6,
   "id": "7bc432c6",
   "metadata": {},
   "outputs": [
    {
     "name": "stderr",
     "output_type": "stream",
     "text": [
      "D:\\DATA\\ProgramData\\Anaconda\\lib\\site-packages\\sklearn\\model_selection\\_split.py:676: UserWarning: The least populated class in y has only 2 members, which is less than n_splits=5.\n",
      "  warnings.warn(\n"
     ]
    }
   ],
   "source": [
    "scores = []\n",
    "ks = []\n",
    "for k in range(35,36):\n",
    "    knn = KNeighborsClassifier(n_neighbors=k)\n",
    "    score = cv.cross_val_score(knn, x_train, y_train, n_jobs=-1).mean()\n",
    "    scores.append(score)\n",
    "    ks.append(k)"
   ]
  },
  {
   "cell_type": "code",
   "execution_count": 7,
   "id": "7761d1df",
   "metadata": {},
   "outputs": [
    {
     "data": {
      "text/plain": [
       "KNeighborsClassifier(n_neighbors=35)"
      ]
     },
     "execution_count": 7,
     "metadata": {},
     "output_type": "execute_result"
    }
   ],
   "source": [
    "# 训练模型\n",
    "knn.fit(x_train, y_train)"
   ]
  },
  {
   "cell_type": "code",
   "execution_count": 9,
   "id": "693eba61",
   "metadata": {},
   "outputs": [
    {
     "data": {
      "text/plain": [
       "[0.7148563504083003]"
      ]
     },
     "execution_count": 9,
     "metadata": {},
     "output_type": "execute_result"
    }
   ],
   "source": [
    "scores"
   ]
  },
  {
   "cell_type": "code",
   "execution_count": 16,
   "id": "9f0a282a",
   "metadata": {},
   "outputs": [
    {
     "data": {
      "text/plain": [
       "array(['normal.'], dtype=object)"
      ]
     },
     "execution_count": 16,
     "metadata": {},
     "output_type": "execute_result"
    }
   ],
   "source": [
    "knn.predict([[0,0,1,0,0,0,0,0,0,0,0,0,0]])"
   ]
  },
  {
   "cell_type": "code",
   "execution_count": 15,
   "id": "8bb2a792",
   "metadata": {},
   "outputs": [
    {
     "data": {
      "text/plain": [
       "[0, 0, 1, 0, 0, 0, 0, 0, 0, 0, 0, 0, 0]"
      ]
     },
     "execution_count": 15,
     "metadata": {},
     "output_type": "execute_result"
    }
   ],
   "source": [
    "str = '0,tcp,http,SF,234,2448,0,0,0,0,0,1,0,0,0,0,0,0,0,0,0,0,19,19,0.00,0.00,0.00,0.00,1.00,0.00,0.00,76,255,1.00,0.00,0.01,0.04,0.00,0.00,0.00,0.00,normal.'\n",
    "\n",
    "line = str.split(',')\n",
    "\n",
    "res = []\n",
    "for i in line[9:22]:\n",
    "    res.append(i)\n",
    "\n",
    "out_list=list(map(int,res))\n",
    "out_list"
   ]
  },
  {
   "cell_type": "code",
   "execution_count": null,
   "id": "6a293354",
   "metadata": {},
   "outputs": [],
   "source": []
  }
 ],
 "metadata": {
  "kernelspec": {
   "display_name": "Python 3 (ipykernel)",
   "language": "python",
   "name": "python3"
  },
  "language_info": {
   "codemirror_mode": {
    "name": "ipython",
    "version": 3
   },
   "file_extension": ".py",
   "mimetype": "text/x-python",
   "name": "python",
   "nbconvert_exporter": "python",
   "pygments_lexer": "ipython3",
   "version": "3.9.12"
  }
 },
 "nbformat": 4,
 "nbformat_minor": 5
}
